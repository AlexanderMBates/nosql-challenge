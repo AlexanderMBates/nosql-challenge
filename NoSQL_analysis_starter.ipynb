{
 "cells": [
  {
   "cell_type": "markdown",
   "id": "9a57c4c6",
   "metadata": {},
   "source": [
    "# Eat Safe, Love"
   ]
  },
  {
   "cell_type": "markdown",
   "id": "064ef857",
   "metadata": {},
   "source": [
    "## Notebook Set Up"
   ]
  },
  {
   "cell_type": "code",
   "execution_count": null,
   "id": "3ecdd008",
   "metadata": {},
   "outputs": [],
   "source": [
    "# Import dependencies\n",
    "from pymongo import MongoClient\n",
    "from pprint import pprint\n",
    "import pandas as pd\n"
   ]
  },
  {
   "cell_type": "code",
   "execution_count": null,
   "id": "59390c4a",
   "metadata": {},
   "outputs": [],
   "source": [
    "# Create an instance of MongoClient\n",
    "mongo = MongoClient(port=27017)"
   ]
  },
  {
   "cell_type": "code",
   "execution_count": null,
   "id": "71e373c1",
   "metadata": {},
   "outputs": [],
   "source": [
    "# assign the uk_food database to a variable name\n",
    "db = mongo['uk_food']"
   ]
  },
  {
   "cell_type": "code",
   "execution_count": null,
   "id": "18ab463c",
   "metadata": {},
   "outputs": [],
   "source": [
    "# review the collections in our database\n",
    "print(db.list_collection_names())"
   ]
  },
  {
   "cell_type": "code",
   "execution_count": null,
   "id": "11c9f11b",
   "metadata": {},
   "outputs": [],
   "source": [
    "# assign the collection to a variable\n",
    "establishments = db['establishments']"
   ]
  },
  {
   "cell_type": "markdown",
   "id": "d5671434",
   "metadata": {},
   "source": [
    "## Part 3: Exploratory Analysis\n",
    "Unless otherwise stated, for each question: \n",
    "* Use `count_documents` to display the number of documents contained in the result.\n",
    "* Display the first document in the results using `pprint`.\n",
    "* Convert the result to a Pandas DataFrame, print the number of rows in the DataFrame, and display the first 10 rows."
   ]
  },
  {
   "cell_type": "markdown",
   "id": "314bd884",
   "metadata": {},
   "source": [
    "### 1. Which establishments have a hygiene score equal to 20?"
   ]
  },
  {
   "cell_type": "code",
   "execution_count": null,
   "id": "c2da7648",
   "metadata": {},
   "outputs": [],
   "source": [
    "# Find the establishments with a hygiene score of 20\n",
    "query = {\"scores.Hygiene\": 20}\n",
    "\n",
    "# Use count_documents to display the number of documents in the result\n",
    "result_count = establishments.count_documents(query)\n",
    "print(\"Number of establishments with a hygiene score of 20:\", result_count)\n",
    "\n",
    "# Display the first document in the results using pprint\n",
    "first_document = establishments.find_one(query)\n",
    "pprint(first_document)\n"
   ]
  },
  {
   "cell_type": "code",
   "execution_count": null,
   "id": "a6e5cece",
   "metadata": {},
   "outputs": [],
   "source": [
    "# Convert the result to a Pandas DataFrame\n",
    "\n",
    "# Display the number of rows in the DataFrame\n",
    "\n",
    "# Display the first 10 rows of the DataFrame\n",
    "\n",
    "# Find the establishments with a hygiene score of 20\n",
    "query = {\"scores.Hygiene\": 20}\n",
    "\n",
    "# Execute the query\n",
    "cursor = establishments.find(query)\n",
    "\n",
    "# Convert the result to a Pandas DataFrame\n",
    "df = pd.DataFrame(list(cursor))\n",
    "\n",
    "# Display the number of rows in the DataFrame\n",
    "print(\"Number of rows in the DataFrame:\", len(df))\n",
    "\n",
    "# Display the first 10 rows of the DataFrame\n",
    "print(df.head(10))"
   ]
  },
  {
   "cell_type": "markdown",
   "id": "0ef4395a",
   "metadata": {},
   "source": [
    "### 2. Which establishments in London have a `RatingValue` greater than or equal to 4?"
   ]
  },
  {
   "cell_type": "code",
   "execution_count": null,
   "id": "93c63829",
   "metadata": {},
   "outputs": [],
   "source": [
    "# Find the establishments with London as the Local Authority and has a RatingValue greater than or equal to 4.\n",
    "\n",
    "\n",
    "# Use count_documents to display the number of documents in the result\n",
    "\n",
    "# Display the first document in the results using pprint\n",
    "query = {'LocalAuthorityName': {'$regex' : 'London'} , 'RatingValue': {'$gte' : '4'}}\n",
    "\n",
    "\n",
    "\n",
    "# Use count_documents to display the number of documents in the result\n",
    "\n",
    "rating_value = establishments.count_documents(query)\n",
    "print(f'There are {rating_value} restaurants with a rating value greater than or equal to 4.')\n",
    "\n",
    "\n",
    "\n",
    "# Display the first document in the results using pprint\n",
    "pprint(establishments.find_one(query))\n"
   ]
  },
  {
   "cell_type": "code",
   "execution_count": null,
   "id": "07e24ccb",
   "metadata": {},
   "outputs": [],
   "source": [
    "# Convert the result to a Pandas DataFrame\n",
    "\n",
    "# Display the number of rows in the DataFrame\n",
    "\n",
    "# Display the first 10 rows of the DataFrame\n",
    "# Convert the result to a Pandas DataFrame\n",
    "query = {'LocalAuthorityName': {'$regex' : 'London'} , 'RatingValue': {'$gte' : '4'}}\n",
    "results = establishments.find(query)\n",
    "df = pd.DataFrame(results)\n",
    "# Display the number of rows in the DataFrame\n",
    "\n",
    "num_rows = df['_id'].count()\n",
    "print(num_rows)\n",
    "\n",
    "# Display the first 10 rows of the DataFrame\n",
    "df.head(10)"
   ]
  },
  {
   "attachments": {},
   "cell_type": "markdown",
   "id": "4e570caf",
   "metadata": {},
   "source": [
    "### 3. What are the top 5 establishments with a `RatingValue` rating value of 5, sorted by lowest hygiene score, nearest to the new restaurant added, \"Penang Flavours\"?"
   ]
  },
  {
   "cell_type": "code",
   "execution_count": 31,
   "id": "ebd3c6e6",
   "metadata": {},
   "outputs": [
    {
     "data": {
      "text/plain": [
       "{'_id': ObjectId('652f2ce923865a58dada0235'),\n",
       " 'geocode': {'longitude': 1.195625, 'latitude': 51.083812}}"
      ]
     },
     "execution_count": 31,
     "metadata": {},
     "output_type": "execute_result"
    }
   ],
   "source": [
    "fields = {'geocode': 1}\n",
    "\n",
    "establishments.find_one({'geocode.latitude': {'$gte' : 5}} ,fields)\n"
   ]
  },
  {
   "cell_type": "code",
   "execution_count": 32,
   "id": "7f599f3d",
   "metadata": {},
   "outputs": [],
   "source": [
    "# Search within 0.01 degree on either side of the latitude and longitude.\n",
    "# Rating value must equal 5\n",
    "# Sort by hygiene score\n",
    "\n",
    "# degree_search = 0.01\n",
    "# latitude = \n",
    "# longitude = \n",
    "\n",
    "# query = \n",
    "# sort =  \n",
    "\n",
    "# Print the results\n",
    "\n",
    "degree_search = 0.01\n",
    "latitude = 51.083812  # Replace with the latitude of Penang Flavours\n",
    "longitude = 1.195625  # Replace with the longitude of Penang Flavours\n",
    "\n",
    "# Define the query\n",
    "query = {\n",
    "    \"RatingValue\": 5,\n",
    "    \"geocode.latitude\": {\"$gte\": latitude - degree_search, \"$lte\": latitude + degree_search},\n",
    "    \"geocode.longitude\": {\"$gte\": longitude - degree_search, \"$lte\": longitude + degree_search}\n",
    "}\n",
    "\n",
    "# Define the sort criteria\n",
    "sort = [(\"scores.Hygiene\", 1)]\n",
    "\n",
    "# Execute the query and sort the results\n",
    "cursor = establishments.find(query).sort(sort).limit(5)\n",
    "\n",
    "# Iterate over the cursor and print the results\n",
    "for doc in cursor:\n",
    "    pprint(doc)\n"
   ]
  },
  {
   "cell_type": "code",
   "execution_count": 33,
   "id": "a6ad16f7",
   "metadata": {},
   "outputs": [
    {
     "data": {
      "text/html": [
       "<div>\n",
       "<style scoped>\n",
       "    .dataframe tbody tr th:only-of-type {\n",
       "        vertical-align: middle;\n",
       "    }\n",
       "\n",
       "    .dataframe tbody tr th {\n",
       "        vertical-align: top;\n",
       "    }\n",
       "\n",
       "    .dataframe thead th {\n",
       "        text-align: right;\n",
       "    }\n",
       "</style>\n",
       "<table border=\"1\" class=\"dataframe\">\n",
       "  <thead>\n",
       "    <tr style=\"text-align: right;\">\n",
       "      <th></th>\n",
       "    </tr>\n",
       "  </thead>\n",
       "  <tbody>\n",
       "  </tbody>\n",
       "</table>\n",
       "</div>"
      ],
      "text/plain": [
       "Empty DataFrame\n",
       "Columns: []\n",
       "Index: []"
      ]
     },
     "execution_count": 33,
     "metadata": {},
     "output_type": "execute_result"
    }
   ],
   "source": [
    "# Convert result to Pandas DataFrame\n",
    "cursor = establishments.find(query).sort(sort).limit(5)\n",
    "\n",
    "# Convert the cursor to a list of dictionaries\n",
    "results = list(cursor)\n",
    "\n",
    "# Create a Pandas DataFrame from the list of dictionaries\n",
    "new_df = pd.DataFrame(results)\n",
    "\n",
    "# Display the Pandas DataFrame\n",
    "new_df\n"
   ]
  },
  {
   "cell_type": "markdown",
   "id": "67281254",
   "metadata": {},
   "source": [
    "### 4. How many establishments in each Local Authority area have a hygiene score of 0?"
   ]
  },
  {
   "cell_type": "code",
   "execution_count": 34,
   "id": "4eeb227e",
   "metadata": {},
   "outputs": [
    {
     "name": "stdout",
     "output_type": "stream",
     "text": [
      "Total number of establishments with a hygiene score of 0: 55\n",
      "{'_id': 'Thanet', 'count': 1130}\n",
      "{'_id': 'Greenwich', 'count': 886}\n",
      "{'_id': 'Maidstone', 'count': 713}\n",
      "{'_id': 'Newham', 'count': 711}\n",
      "{'_id': 'Swale', 'count': 686}\n",
      "{'_id': 'Chelmsford', 'count': 680}\n",
      "{'_id': 'Medway', 'count': 672}\n",
      "{'_id': 'Bexley', 'count': 607}\n",
      "{'_id': 'Southend-On-Sea', 'count': 586}\n",
      "{'_id': 'Tendring', 'count': 542}\n"
     ]
    }
   ],
   "source": [
    "# Create a pipeline that: \n",
    "# 1. Matches establishments with a hygiene score of 0\n",
    "# 2. Groups the matches by Local Authority\n",
    "# 3. Sorts the matches from highest to lowest\n",
    "\n",
    "# Print the number of documents in the result\n",
    "\n",
    "# Print the first 10 results\n",
    "pipeline = [\n",
    "    {\n",
    "        \"$match\": {\n",
    "            \"scores.Hygiene\": 0\n",
    "        }\n",
    "    },\n",
    "    {\n",
    "        \"$group\": {\n",
    "            \"_id\": \"$LocalAuthorityName\",\n",
    "            \"count\": {\"$sum\": 1}\n",
    "        }\n",
    "    },\n",
    "    {\n",
    "        \"$sort\": {\"count\": -1}\n",
    "    }\n",
    "]\n",
    "\n",
    "results = list(establishments.aggregate(pipeline))\n",
    "\n",
    "# Print the number of documents in the result\n",
    "print(f\"Total number of establishments with a hygiene score of 0: {len(results)}\")\n",
    "\n",
    "# Print the first 10 results\n",
    "for result in results[:10]:\n",
    "    pprint(result)\n"
   ]
  },
  {
   "cell_type": "code",
   "execution_count": 35,
   "id": "d8aab364",
   "metadata": {},
   "outputs": [
    {
     "name": "stdout",
     "output_type": "stream",
     "text": [
      "Number of rows in the DataFrame: 55\n",
      "               _id  count\n",
      "0           Thanet   1130\n",
      "1        Greenwich    886\n",
      "2        Maidstone    713\n",
      "3           Newham    711\n",
      "4            Swale    686\n",
      "5       Chelmsford    680\n",
      "6           Medway    672\n",
      "7           Bexley    607\n",
      "8  Southend-On-Sea    586\n",
      "9         Tendring    542\n"
     ]
    }
   ],
   "source": [
    "# Convert the result to a Pandas DataFrame\n",
    "\n",
    "# Display the number of rows in the DataFrame\n",
    "\n",
    "# Display the first 10 rows of the DataFrame\n",
    "import pandas as pd\n",
    "\n",
    "# Convert the result to a Pandas DataFrame\n",
    "final_df = pd.DataFrame(results)\n",
    "\n",
    "# Display the number of rows in the DataFrame\n",
    "num_rows = len(final_df)\n",
    "print(f\"Number of rows in the DataFrame: {num_rows}\")\n",
    "\n",
    "# Display the first 10 rows of the DataFrame\n",
    "first_10_rows = final_df.head(10)\n",
    "print(first_10_rows)\n"
   ]
  }
 ],
 "metadata": {
  "kernelspec": {
   "display_name": "Python 3 (ipykernel)",
   "language": "python",
   "name": "python3"
  },
  "language_info": {
   "codemirror_mode": {
    "name": "ipython",
    "version": 3
   },
   "file_extension": ".py",
   "mimetype": "text/x-python",
   "name": "python",
   "nbconvert_exporter": "python",
   "pygments_lexer": "ipython3",
   "version": "3.10.4"
  }
 },
 "nbformat": 4,
 "nbformat_minor": 5
}
